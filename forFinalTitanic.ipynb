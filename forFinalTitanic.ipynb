{
 "cells": [
  {
   "cell_type": "markdown",
   "id": "f7240e1a",
   "metadata": {
    "papermill": {
     "duration": 0.020754,
     "end_time": "2024-07-24T11:15:54.493228",
     "exception": false,
     "start_time": "2024-07-24T11:15:54.472474",
     "status": "completed"
    },
    "tags": []
   },
   "source": [
    "Importing Libraries "
   ]
  },
  {
   "cell_type": "code",
   "execution_count": 2,
   "id": "adac5245",
   "metadata": {
    "ExecuteTime": {
     "end_time": "2024-09-06T15:39:19.449583Z",
     "start_time": "2024-09-06T15:39:19.287613Z"
    },
    "execution": {
     "iopub.execute_input": "2024-07-24T11:15:54.537130Z",
     "iopub.status.busy": "2024-07-24T11:15:54.536662Z",
     "iopub.status.idle": "2024-07-24T11:15:57.861437Z",
     "shell.execute_reply": "2024-07-24T11:15:57.860146Z"
    },
    "papermill": {
     "duration": 3.350335,
     "end_time": "2024-07-24T11:15:57.864603",
     "exception": false,
     "start_time": "2024-07-24T11:15:54.514268",
     "status": "completed"
    },
    "tags": []
   },
   "outputs": [],
   "source": [
    "import numpy as np\n",
    "import matplotlib.pyplot as plt\n",
    "import pandas as pd\n",
    "import seaborn as sns\n",
    "from sklearn.preprocessing import LabelEncoder\n",
    "from sklearn.preprocessing import StandardScaler\n",
    "from sklearn.model_selection import train_test_split\n",
    "from sklearn.linear_model import LogisticRegression\n",
    "from sklearn.tree import DecisionTreeClassifier\n",
    "from sklearn.ensemble import RandomForestClassifier\n",
    "from sklearn.neighbors import KNeighborsClassifier\n",
    "from sklearn.svm import SVC\n",
    "from sklearn.metrics import classification_report, accuracy_score, confusion_matrix\n",
    "plt.style.use('ggplot')\n",
    "import warnings \n",
    "warnings.filterwarnings('ignore')"
   ]
  },
  {
   "cell_type": "markdown",
   "id": "72e0fbf9",
   "metadata": {
    "papermill": {
     "duration": 0.023123,
     "end_time": "2024-07-24T11:15:57.909623",
     "exception": false,
     "start_time": "2024-07-24T11:15:57.886500",
     "status": "completed"
    },
    "tags": []
   },
   "source": [
    "Importing Data"
   ]
  },
  {
   "cell_type": "code",
   "execution_count": 3,
   "id": "9cd258e8",
   "metadata": {
    "ExecuteTime": {
     "end_time": "2024-09-06T15:39:25.071842Z",
     "start_time": "2024-09-06T15:39:25.034854Z"
    },
    "execution": {
     "iopub.execute_input": "2024-07-24T11:15:58.035677Z",
     "iopub.status.busy": "2024-07-24T11:15:58.035251Z",
     "iopub.status.idle": "2024-07-24T11:15:58.066230Z",
     "shell.execute_reply": "2024-07-24T11:15:58.064809Z"
    },
    "papermill": {
     "duration": 0.05684,
     "end_time": "2024-07-24T11:15:58.069415",
     "exception": false,
     "start_time": "2024-07-24T11:15:58.012575",
     "status": "completed"
    },
    "tags": []
   },
   "outputs": [
    {
     "data": {
      "text/html": [
       "<div>\n",
       "<style scoped>\n",
       "    .dataframe tbody tr th:only-of-type {\n",
       "        vertical-align: middle;\n",
       "    }\n",
       "\n",
       "    .dataframe tbody tr th {\n",
       "        vertical-align: top;\n",
       "    }\n",
       "\n",
       "    .dataframe thead th {\n",
       "        text-align: right;\n",
       "    }\n",
       "</style>\n",
       "<table border=\"1\" class=\"dataframe\">\n",
       "  <thead>\n",
       "    <tr style=\"text-align: right;\">\n",
       "      <th></th>\n",
       "      <th>PassengerId</th>\n",
       "      <th>Survived</th>\n",
       "      <th>Pclass</th>\n",
       "      <th>Name</th>\n",
       "      <th>Sex</th>\n",
       "      <th>Age</th>\n",
       "      <th>SibSp</th>\n",
       "      <th>Parch</th>\n",
       "      <th>Ticket</th>\n",
       "      <th>Fare</th>\n",
       "      <th>Cabin</th>\n",
       "      <th>Embarked</th>\n",
       "    </tr>\n",
       "  </thead>\n",
       "  <tbody>\n",
       "    <tr>\n",
       "      <th>0</th>\n",
       "      <td>892</td>\n",
       "      <td>0</td>\n",
       "      <td>3</td>\n",
       "      <td>Kelly, Mr. James</td>\n",
       "      <td>male</td>\n",
       "      <td>34.5</td>\n",
       "      <td>0</td>\n",
       "      <td>0</td>\n",
       "      <td>330911</td>\n",
       "      <td>7.8292</td>\n",
       "      <td>NaN</td>\n",
       "      <td>Q</td>\n",
       "    </tr>\n",
       "    <tr>\n",
       "      <th>1</th>\n",
       "      <td>893</td>\n",
       "      <td>1</td>\n",
       "      <td>3</td>\n",
       "      <td>Wilkes, Mrs. James (Ellen Needs)</td>\n",
       "      <td>female</td>\n",
       "      <td>47.0</td>\n",
       "      <td>1</td>\n",
       "      <td>0</td>\n",
       "      <td>363272</td>\n",
       "      <td>7.0000</td>\n",
       "      <td>NaN</td>\n",
       "      <td>S</td>\n",
       "    </tr>\n",
       "    <tr>\n",
       "      <th>2</th>\n",
       "      <td>894</td>\n",
       "      <td>0</td>\n",
       "      <td>2</td>\n",
       "      <td>Myles, Mr. Thomas Francis</td>\n",
       "      <td>male</td>\n",
       "      <td>62.0</td>\n",
       "      <td>0</td>\n",
       "      <td>0</td>\n",
       "      <td>240276</td>\n",
       "      <td>9.6875</td>\n",
       "      <td>NaN</td>\n",
       "      <td>Q</td>\n",
       "    </tr>\n",
       "    <tr>\n",
       "      <th>3</th>\n",
       "      <td>895</td>\n",
       "      <td>0</td>\n",
       "      <td>3</td>\n",
       "      <td>Wirz, Mr. Albert</td>\n",
       "      <td>male</td>\n",
       "      <td>27.0</td>\n",
       "      <td>0</td>\n",
       "      <td>0</td>\n",
       "      <td>315154</td>\n",
       "      <td>8.6625</td>\n",
       "      <td>NaN</td>\n",
       "      <td>S</td>\n",
       "    </tr>\n",
       "    <tr>\n",
       "      <th>4</th>\n",
       "      <td>896</td>\n",
       "      <td>1</td>\n",
       "      <td>3</td>\n",
       "      <td>Hirvonen, Mrs. Alexander (Helga E Lindqvist)</td>\n",
       "      <td>female</td>\n",
       "      <td>22.0</td>\n",
       "      <td>1</td>\n",
       "      <td>1</td>\n",
       "      <td>3101298</td>\n",
       "      <td>12.2875</td>\n",
       "      <td>NaN</td>\n",
       "      <td>S</td>\n",
       "    </tr>\n",
       "  </tbody>\n",
       "</table>\n",
       "</div>"
      ],
      "text/plain": [
       "   PassengerId  Survived  Pclass  \\\n",
       "0          892         0       3   \n",
       "1          893         1       3   \n",
       "2          894         0       2   \n",
       "3          895         0       3   \n",
       "4          896         1       3   \n",
       "\n",
       "                                           Name     Sex   Age  SibSp  Parch  \\\n",
       "0                              Kelly, Mr. James    male  34.5      0      0   \n",
       "1              Wilkes, Mrs. James (Ellen Needs)  female  47.0      1      0   \n",
       "2                     Myles, Mr. Thomas Francis    male  62.0      0      0   \n",
       "3                              Wirz, Mr. Albert    male  27.0      0      0   \n",
       "4  Hirvonen, Mrs. Alexander (Helga E Lindqvist)  female  22.0      1      1   \n",
       "\n",
       "    Ticket     Fare Cabin Embarked  \n",
       "0   330911   7.8292   NaN        Q  \n",
       "1   363272   7.0000   NaN        S  \n",
       "2   240276   9.6875   NaN        Q  \n",
       "3   315154   8.6625   NaN        S  \n",
       "4  3101298  12.2875   NaN        S  "
      ]
     },
     "execution_count": 3,
     "metadata": {},
     "output_type": "execute_result"
    }
   ],
   "source": [
    "data=pd.read_csv('data/tested.csv')\n",
    "data.head(5)"
   ]
  },
  {
   "cell_type": "markdown",
   "id": "19242992",
   "metadata": {
    "papermill": {
     "duration": 0.022931,
     "end_time": "2024-07-24T11:15:58.115358",
     "exception": false,
     "start_time": "2024-07-24T11:15:58.092427",
     "status": "completed"
    },
    "tags": []
   },
   "source": [
    "Exploratory Data Analysis"
   ]
  },
  {
   "cell_type": "code",
   "execution_count": 4,
   "id": "394ae4ae",
   "metadata": {
    "ExecuteTime": {
     "end_time": "2024-09-06T15:39:29.782244Z",
     "start_time": "2024-09-06T15:39:29.761690Z"
    },
    "execution": {
     "iopub.execute_input": "2024-07-24T11:15:58.277601Z",
     "iopub.status.busy": "2024-07-24T11:15:58.277162Z",
     "iopub.status.idle": "2024-07-24T11:15:58.289187Z",
     "shell.execute_reply": "2024-07-24T11:15:58.287897Z"
    },
    "papermill": {
     "duration": 0.039219,
     "end_time": "2024-07-24T11:15:58.292035",
     "exception": false,
     "start_time": "2024-07-24T11:15:58.252816",
     "status": "completed"
    },
    "tags": []
   },
   "outputs": [],
   "source": [
    "data=data.drop(columns='PassengerId')"
   ]
  },
  {
   "cell_type": "code",
   "execution_count": 5,
   "id": "cb86de2e",
   "metadata": {
    "ExecuteTime": {
     "end_time": "2024-09-06T15:39:30.680306Z",
     "start_time": "2024-09-06T15:39:30.661891Z"
    },
    "execution": {
     "iopub.execute_input": "2024-07-24T11:15:58.337426Z",
     "iopub.status.busy": "2024-07-24T11:15:58.337016Z",
     "iopub.status.idle": "2024-07-24T11:15:58.351275Z",
     "shell.execute_reply": "2024-07-24T11:15:58.350077Z"
    },
    "papermill": {
     "duration": 0.040396,
     "end_time": "2024-07-24T11:15:58.354019",
     "exception": false,
     "start_time": "2024-07-24T11:15:58.313623",
     "status": "completed"
    },
    "tags": []
   },
   "outputs": [
    {
     "data": {
      "text/plain": [
       "Survived\n",
       "0    266\n",
       "1    152\n",
       "Name: count, dtype: int64"
      ]
     },
     "execution_count": 5,
     "metadata": {},
     "output_type": "execute_result"
    }
   ],
   "source": [
    "data.Survived.value_counts()"
   ]
  },
  {
   "cell_type": "code",
   "execution_count": 6,
   "id": "4a410f9e",
   "metadata": {
    "ExecuteTime": {
     "end_time": "2024-09-06T15:39:34.495116Z",
     "start_time": "2024-09-06T15:39:33.209418Z"
    },
    "execution": {
     "iopub.execute_input": "2024-07-24T11:15:58.401662Z",
     "iopub.status.busy": "2024-07-24T11:15:58.401258Z",
     "iopub.status.idle": "2024-07-24T11:15:58.411163Z",
     "shell.execute_reply": "2024-07-24T11:15:58.409795Z"
    },
    "papermill": {
     "duration": 0.037727,
     "end_time": "2024-07-24T11:15:58.413902",
     "exception": false,
     "start_time": "2024-07-24T11:15:58.376175",
     "status": "completed"
    },
    "tags": []
   },
   "outputs": [
    {
     "data": {
      "text/plain": [
       "Pclass\n",
       "3    218\n",
       "1    107\n",
       "2     93\n",
       "Name: count, dtype: int64"
      ]
     },
     "execution_count": 6,
     "metadata": {},
     "output_type": "execute_result"
    }
   ],
   "source": [
    "data.Pclass.value_counts()"
   ]
  },
  {
   "cell_type": "code",
   "execution_count": 7,
   "id": "e763a1c1",
   "metadata": {
    "ExecuteTime": {
     "end_time": "2024-09-06T15:39:36.758437Z",
     "start_time": "2024-09-06T15:39:35.956980Z"
    },
    "execution": {
     "iopub.execute_input": "2024-07-24T11:15:58.875338Z",
     "iopub.status.busy": "2024-07-24T11:15:58.874892Z",
     "iopub.status.idle": "2024-07-24T11:15:59.185498Z",
     "shell.execute_reply": "2024-07-24T11:15:59.184567Z"
    },
    "papermill": {
     "duration": 0.338306,
     "end_time": "2024-07-24T11:15:59.189203",
     "exception": false,
     "start_time": "2024-07-24T11:15:58.850897",
     "status": "completed"
    },
    "tags": []
   },
   "outputs": [
    {
     "data": {
      "text/plain": [
       "<Axes: xlabel='Pclass', ylabel='count'>"
      ]
     },
     "execution_count": 7,
     "metadata": {},
     "output_type": "execute_result"
    },
    {
     "data": {
      "image/png": "[encoded data removed]",
      "text/plain": [
       "<Figure size 640x480 with 1 Axes>"
      ]
     },
     "metadata": {},
     "output_type": "display_data"
    }
   ],
   "source": [
    "sns.countplot(data[data['Survived']==1],x='Pclass')"
   ]
  },
  {
   "cell_type": "code",
   "execution_count": 8,
   "id": "8476fe5f",
   "metadata": {
    "ExecuteTime": {
     "end_time": "2024-09-06T15:40:12.306323Z",
     "start_time": "2024-09-06T15:40:11.096742Z"
    },
    "execution": {
     "iopub.execute_input": "2024-07-24T11:16:01.417748Z",
     "iopub.status.busy": "2024-07-24T11:16:01.417309Z",
     "iopub.status.idle": "2024-07-24T11:16:01.678663Z",
     "shell.execute_reply": "2024-07-24T11:16:01.677349Z"
    },
    "papermill": {
     "duration": 0.292529,
     "end_time": "2024-07-24T11:16:01.681500",
     "exception": false,
     "start_time": "2024-07-24T11:16:01.388971",
     "status": "completed"
    },
    "tags": []
   },
   "outputs": [
    {
     "data": {
      "text/plain": [
       "<Axes: xlabel='Embarked', ylabel='Count'>"
      ]
     },
     "execution_count": 8,
     "metadata": {},
     "output_type": "execute_result"
    },
    {
     "data": {
      "image/png": "[encoded data removed]",
      "text/plain": [
       "<Figure size 640x480 with 1 Axes>"
      ]
     },
     "metadata": {},
     "output_type": "display_data"
    }
   ],
   "source": [
    "sns.histplot(data[data['Survived']==1],x='Embarked')"
   ]
  },
  {
   "cell_type": "code",
   "execution_count": 71,
   "id": "e008a0a1",
   "metadata": {
    "ExecuteTime": {
     "end_time": "2024-09-06T15:39:51.791032Z",
     "start_time": "2024-09-06T15:39:51.733624Z"
    },
    "execution": {
     "iopub.execute_input": "2024-07-24T11:16:00.635325Z",
     "iopub.status.busy": "2024-07-24T11:16:00.634912Z",
     "iopub.status.idle": "2024-07-24T11:16:00.645407Z",
     "shell.execute_reply": "2024-07-24T11:16:00.644092Z"
    },
    "papermill": {
     "duration": 0.039874,
     "end_time": "2024-07-24T11:16:00.648053",
     "exception": false,
     "start_time": "2024-07-24T11:16:00.608179",
     "status": "completed"
    },
    "tags": []
   },
   "outputs": [],
   "source": [
    "#data['First_Name4']=data['First_Name'].apply(lambda x : 1 if Name_counts[x]==4 else 0 )"
   ]
  },
  {
   "cell_type": "code",
   "execution_count": 72,
   "id": "bfcce447",
   "metadata": {
    "ExecuteTime": {
     "end_time": "2024-09-06T15:39:52.944773Z",
     "start_time": "2024-09-06T15:39:52.593594Z"
    },
    "execution": {
     "iopub.execute_input": "2024-07-24T11:16:00.700590Z",
     "iopub.status.busy": "2024-07-24T11:16:00.700147Z",
     "iopub.status.idle": "2024-07-24T11:16:01.020978Z",
     "shell.execute_reply": "2024-07-24T11:16:01.019784Z"
    },
    "papermill": {
     "duration": 0.350468,
     "end_time": "2024-07-24T11:16:01.023641",
     "exception": false,
     "start_time": "2024-07-24T11:16:00.673173",
     "status": "completed"
    },
    "tags": []
   },
   "outputs": [],
   "source": [
    "#plt.hist(data.First_Name4,color='green')"
   ]
  },
  {
   "cell_type": "code",
   "execution_count": 73,
   "id": "76aea31e",
   "metadata": {
    "ExecuteTime": {
     "end_time": "2024-09-06T15:39:53.952008Z",
     "start_time": "2024-09-06T15:39:53.936729Z"
    },
    "execution": {
     "iopub.execute_input": "2024-07-24T11:16:01.078562Z",
     "iopub.status.busy": "2024-07-24T11:16:01.077741Z",
     "iopub.status.idle": "2024-07-24T11:16:01.084579Z",
     "shell.execute_reply": "2024-07-24T11:16:01.083223Z"
    },
    "papermill": {
     "duration": 0.03705,
     "end_time": "2024-07-24T11:16:01.087193",
     "exception": false,
     "start_time": "2024-07-24T11:16:01.050143",
     "status": "completed"
    },
    "tags": []
   },
   "outputs": [],
   "source": [
    "#data=data.drop(columns='First_Name')"
   ]
  },
  {
   "cell_type": "code",
   "execution_count": 74,
   "id": "1ed0a676",
   "metadata": {
    "ExecuteTime": {
     "end_time": "2024-09-06T15:39:55.706976Z",
     "start_time": "2024-09-06T15:39:55.691764Z"
    },
    "execution": {
     "iopub.execute_input": "2024-07-24T11:16:01.141029Z",
     "iopub.status.busy": "2024-07-24T11:16:01.140586Z",
     "iopub.status.idle": "2024-07-24T11:16:01.150479Z",
     "shell.execute_reply": "2024-07-24T11:16:01.149295Z"
    },
    "papermill": {
     "duration": 0.039526,
     "end_time": "2024-07-24T11:16:01.152939",
     "exception": false,
     "start_time": "2024-07-24T11:16:01.113413",
     "status": "completed"
    },
    "tags": []
   },
   "outputs": [],
   "source": [
    "#data.groupby('First_Name4').Survived.mean()"
   ]
  },
  {
   "cell_type": "code",
   "execution_count": 10,
   "id": "aae4e05e",
   "metadata": {
    "ExecuteTime": {
     "end_time": "2024-09-06T15:40:13.789170Z",
     "start_time": "2024-09-06T15:40:13.767046Z"
    },
    "execution": {
     "iopub.execute_input": "2024-07-24T11:16:01.739539Z",
     "iopub.status.busy": "2024-07-24T11:16:01.739106Z",
     "iopub.status.idle": "2024-07-24T11:16:01.750788Z",
     "shell.execute_reply": "2024-07-24T11:16:01.749461Z"
    },
    "papermill": {
     "duration": 0.044403,
     "end_time": "2024-07-24T11:16:01.753430",
     "exception": false,
     "start_time": "2024-07-24T11:16:01.709027",
     "status": "completed"
    },
    "tags": []
   },
   "outputs": [
    {
     "data": {
      "text/plain": [
       "Survived      0\n",
       "Pclass        0\n",
       "Sex           0\n",
       "Age          86\n",
       "SibSp         0\n",
       "Parch         0\n",
       "Ticket        0\n",
       "Fare          1\n",
       "Cabin       327\n",
       "Embarked      0\n",
       "dtype: int64"
      ]
     },
     "execution_count": 10,
     "metadata": {},
     "output_type": "execute_result"
    }
   ],
   "source": [
    "data.isna().sum()"
   ]
  },
  {
   "cell_type": "code",
   "execution_count": 9,
   "id": "5385006f",
   "metadata": {
    "ExecuteTime": {
     "end_time": "2024-09-06T15:39:42.338494Z",
     "start_time": "2024-09-06T15:39:42.325767Z"
    },
    "execution": {
     "iopub.execute_input": "2024-07-24T11:16:00.079218Z",
     "iopub.status.busy": "2024-07-24T11:16:00.078765Z",
     "iopub.status.idle": "2024-07-24T11:16:00.085898Z",
     "shell.execute_reply": "2024-07-24T11:16:00.084529Z"
    },
    "papermill": {
     "duration": 0.037895,
     "end_time": "2024-07-24T11:16:00.088742",
     "exception": false,
     "start_time": "2024-07-24T11:16:00.050847",
     "status": "completed"
    },
    "tags": []
   },
   "outputs": [],
   "source": [
    "data=data.drop(columns='Name')"
   ]
  },
  {
   "cell_type": "code",
   "execution_count": 11,
   "id": "e45d28d6",
   "metadata": {
    "ExecuteTime": {
     "end_time": "2024-09-06T15:40:15.010632Z",
     "start_time": "2024-09-06T15:40:15.001918Z"
    },
    "execution": {
     "iopub.execute_input": "2024-07-24T11:16:01.810249Z",
     "iopub.status.busy": "2024-07-24T11:16:01.809844Z",
     "iopub.status.idle": "2024-07-24T11:16:01.816599Z",
     "shell.execute_reply": "2024-07-24T11:16:01.815200Z"
    },
    "papermill": {
     "duration": 0.038501,
     "end_time": "2024-07-24T11:16:01.819148",
     "exception": false,
     "start_time": "2024-07-24T11:16:01.780647",
     "status": "completed"
    },
    "tags": []
   },
   "outputs": [],
   "source": [
    "data=data.drop(columns='Cabin')"
   ]
  },
  {
   "cell_type": "code",
   "execution_count": 12,
   "id": "e081d5cc",
   "metadata": {
    "ExecuteTime": {
     "end_time": "2024-09-06T15:40:17.232Z",
     "start_time": "2024-09-06T15:40:16.679014Z"
    },
    "execution": {
     "iopub.execute_input": "2024-07-24T11:16:01.876573Z",
     "iopub.status.busy": "2024-07-24T11:16:01.876158Z",
     "iopub.status.idle": "2024-07-24T11:16:01.885937Z",
     "shell.execute_reply": "2024-07-24T11:16:01.884563Z"
    },
    "papermill": {
     "duration": 0.041728,
     "end_time": "2024-07-24T11:16:01.888807",
     "exception": false,
     "start_time": "2024-07-24T11:16:01.847079",
     "status": "completed"
    },
    "tags": []
   },
   "outputs": [
    {
     "data": {
      "text/plain": [
       "30.272590361445783"
      ]
     },
     "execution_count": 12,
     "metadata": {},
     "output_type": "execute_result"
    }
   ],
   "source": [
    "data.Age.mean()"
   ]
  },
  {
   "cell_type": "code",
   "execution_count": 13,
   "id": "fcc16fbd",
   "metadata": {
    "ExecuteTime": {
     "end_time": "2024-09-06T15:40:18.129032Z",
     "start_time": "2024-09-06T15:40:18.119652Z"
    },
    "execution": {
     "iopub.execute_input": "2024-07-24T11:16:01.949055Z",
     "iopub.status.busy": "2024-07-24T11:16:01.947617Z",
     "iopub.status.idle": "2024-07-24T11:16:01.956441Z",
     "shell.execute_reply": "2024-07-24T11:16:01.955105Z"
    },
    "papermill": {
     "duration": 0.040551,
     "end_time": "2024-07-24T11:16:01.959281",
     "exception": false,
     "start_time": "2024-07-24T11:16:01.918730",
     "status": "completed"
    },
    "tags": []
   },
   "outputs": [],
   "source": [
    "data['Age']=data.Age.fillna(data.Age.mean())"
   ]
  },
  {
   "cell_type": "code",
   "execution_count": 14,
   "id": "7bf1911a",
   "metadata": {
    "ExecuteTime": {
     "end_time": "2024-09-06T15:40:19.152958Z",
     "start_time": "2024-09-06T15:40:19.129896Z"
    },
    "execution": {
     "iopub.execute_input": "2024-07-24T11:16:02.016813Z",
     "iopub.status.busy": "2024-07-24T11:16:02.016330Z",
     "iopub.status.idle": "2024-07-24T11:16:02.030766Z",
     "shell.execute_reply": "2024-07-24T11:16:02.029327Z"
    },
    "papermill": {
     "duration": 0.046267,
     "end_time": "2024-07-24T11:16:02.033429",
     "exception": false,
     "start_time": "2024-07-24T11:16:01.987162",
     "status": "completed"
    },
    "tags": []
   },
   "outputs": [
    {
     "data": {
      "text/plain": [
       "count    417.000000\n",
       "mean      35.627188\n",
       "std       55.907576\n",
       "min        0.000000\n",
       "25%        7.895800\n",
       "50%       14.454200\n",
       "75%       31.500000\n",
       "max      512.329200\n",
       "Name: Fare, dtype: float64"
      ]
     },
     "execution_count": 14,
     "metadata": {},
     "output_type": "execute_result"
    }
   ],
   "source": [
    "data.Fare.describe()"
   ]
  },
  {
   "cell_type": "code",
   "execution_count": 15,
   "id": "959899a8",
   "metadata": {
    "ExecuteTime": {
     "end_time": "2024-09-06T15:40:20.416954Z",
     "start_time": "2024-09-06T15:40:20.395319Z"
    },
    "execution": {
     "iopub.execute_input": "2024-07-24T11:16:02.090506Z",
     "iopub.status.busy": "2024-07-24T11:16:02.089989Z",
     "iopub.status.idle": "2024-07-24T11:16:02.100054Z",
     "shell.execute_reply": "2024-07-24T11:16:02.098593Z"
    },
    "papermill": {
     "duration": 0.042118,
     "end_time": "2024-07-24T11:16:02.103034",
     "exception": false,
     "start_time": "2024-07-24T11:16:02.060916",
     "status": "completed"
    },
    "tags": []
   },
   "outputs": [
    {
     "data": {
      "text/plain": [
       "(31, 9)"
      ]
     },
     "execution_count": 15,
     "metadata": {},
     "output_type": "execute_result"
    }
   ],
   "source": [
    "data[data['Fare']>100].shape"
   ]
  },
  {
   "cell_type": "code",
   "execution_count": 16,
   "id": "b07dfd8e",
   "metadata": {
    "ExecuteTime": {
     "end_time": "2024-09-06T15:40:22.064560Z",
     "start_time": "2024-09-06T15:40:22.031829Z"
    },
    "execution": {
     "iopub.execute_input": "2024-07-24T11:16:02.161120Z",
     "iopub.status.busy": "2024-07-24T11:16:02.160672Z",
     "iopub.status.idle": "2024-07-24T11:16:02.167685Z",
     "shell.execute_reply": "2024-07-24T11:16:02.166426Z"
    },
    "papermill": {
     "duration": 0.039013,
     "end_time": "2024-07-24T11:16:02.170114",
     "exception": false,
     "start_time": "2024-07-24T11:16:02.131101",
     "status": "completed"
    },
    "tags": []
   },
   "outputs": [],
   "source": [
    "data['Fare']=data['Fare'].apply(lambda x : 100 if x >100 else x)"
   ]
  },
  {
   "cell_type": "code",
   "execution_count": 17,
   "id": "1940ebd8",
   "metadata": {
    "ExecuteTime": {
     "end_time": "2024-09-06T15:40:22.788119Z",
     "start_time": "2024-09-06T15:40:22.776918Z"
    },
    "execution": {
     "iopub.execute_input": "2024-07-24T11:16:02.228049Z",
     "iopub.status.busy": "2024-07-24T11:16:02.226903Z",
     "iopub.status.idle": "2024-07-24T11:16:02.233410Z",
     "shell.execute_reply": "2024-07-24T11:16:02.232211Z"
    },
    "papermill": {
     "duration": 0.038242,
     "end_time": "2024-07-24T11:16:02.236005",
     "exception": false,
     "start_time": "2024-07-24T11:16:02.197763",
     "status": "completed"
    },
    "tags": []
   },
   "outputs": [],
   "source": [
    "data['Fare']=data.Fare.fillna(data.Fare.mean())"
   ]
  },
  {
   "cell_type": "code",
   "execution_count": 18,
   "id": "b18bab00",
   "metadata": {
    "ExecuteTime": {
     "end_time": "2024-09-06T15:40:23.524683Z",
     "start_time": "2024-09-06T15:40:23.481963Z"
    },
    "execution": {
     "iopub.execute_input": "2024-07-24T11:16:02.294660Z",
     "iopub.status.busy": "2024-07-24T11:16:02.293675Z",
     "iopub.status.idle": "2024-07-24T11:16:02.304187Z",
     "shell.execute_reply": "2024-07-24T11:16:02.302901Z"
    },
    "papermill": {
     "duration": 0.043467,
     "end_time": "2024-07-24T11:16:02.306898",
     "exception": false,
     "start_time": "2024-07-24T11:16:02.263431",
     "status": "completed"
    },
    "tags": []
   },
   "outputs": [
    {
     "data": {
      "text/plain": [
       "Survived\n",
       "0    23.522320\n",
       "1    35.342928\n",
       "Name: Fare, dtype: float64"
      ]
     },
     "execution_count": 18,
     "metadata": {},
     "output_type": "execute_result"
    }
   ],
   "source": [
    "data.groupby('Survived').Fare.mean()"
   ]
  },
  {
   "cell_type": "code",
   "execution_count": 19,
   "id": "ca500a6e",
   "metadata": {
    "ExecuteTime": {
     "end_time": "2024-09-06T15:40:26.255380Z",
     "start_time": "2024-09-06T15:40:25.866692Z"
    },
    "execution": {
     "iopub.execute_input": "2024-07-24T11:16:02.364926Z",
     "iopub.status.busy": "2024-07-24T11:16:02.363929Z",
     "iopub.status.idle": "2024-07-24T11:16:02.373783Z",
     "shell.execute_reply": "2024-07-24T11:16:02.372647Z"
    },
    "papermill": {
     "duration": 0.041581,
     "end_time": "2024-07-24T11:16:02.376207",
     "exception": false,
     "start_time": "2024-07-24T11:16:02.334626",
     "status": "completed"
    },
    "tags": []
   },
   "outputs": [
    {
     "data": {
      "text/plain": [
       "Survived    0\n",
       "Pclass      0\n",
       "Sex         0\n",
       "Age         0\n",
       "SibSp       0\n",
       "Parch       0\n",
       "Ticket      0\n",
       "Fare        0\n",
       "Embarked    0\n",
       "dtype: int64"
      ]
     },
     "execution_count": 19,
     "metadata": {},
     "output_type": "execute_result"
    }
   ],
   "source": [
    "data.isna().sum()"
   ]
  },
  {
   "cell_type": "code",
   "execution_count": 20,
   "id": "7195b79c",
   "metadata": {
    "ExecuteTime": {
     "end_time": "2024-09-06T15:40:27.644152Z",
     "start_time": "2024-09-06T15:40:27.625867Z"
    },
    "execution": {
     "iopub.execute_input": "2024-07-24T11:16:02.434257Z",
     "iopub.status.busy": "2024-07-24T11:16:02.433785Z",
     "iopub.status.idle": "2024-07-24T11:16:02.443045Z",
     "shell.execute_reply": "2024-07-24T11:16:02.441882Z"
    },
    "papermill": {
     "duration": 0.041514,
     "end_time": "2024-07-24T11:16:02.445734",
     "exception": false,
     "start_time": "2024-07-24T11:16:02.404220",
     "status": "completed"
    },
    "tags": []
   },
   "outputs": [
    {
     "data": {
      "text/plain": [
       "Parch\n",
       "0    324\n",
       "1     52\n",
       "2     33\n",
       "3      3\n",
       "4      2\n",
       "9      2\n",
       "6      1\n",
       "5      1\n",
       "Name: count, dtype: int64"
      ]
     },
     "execution_count": 20,
     "metadata": {},
     "output_type": "execute_result"
    }
   ],
   "source": [
    "data.Parch.value_counts()"
   ]
  },
  {
   "cell_type": "code",
   "execution_count": 21,
   "id": "bc7ce017",
   "metadata": {
    "ExecuteTime": {
     "end_time": "2024-09-06T15:40:28.968560Z",
     "start_time": "2024-09-06T15:40:28.951654Z"
    },
    "execution": {
     "iopub.execute_input": "2024-07-24T11:16:02.504326Z",
     "iopub.status.busy": "2024-07-24T11:16:02.503922Z",
     "iopub.status.idle": "2024-07-24T11:16:02.517117Z",
     "shell.execute_reply": "2024-07-24T11:16:02.515272Z"
    },
    "papermill": {
     "duration": 0.046255,
     "end_time": "2024-07-24T11:16:02.519907",
     "exception": false,
     "start_time": "2024-07-24T11:16:02.473652",
     "status": "completed"
    },
    "tags": []
   },
   "outputs": [
    {
     "data": {
      "text/plain": [
       "0.5638297872340425"
      ]
     },
     "execution_count": 21,
     "metadata": {},
     "output_type": "execute_result"
    }
   ],
   "source": [
    "data[data['Parch']!=0].Survived.mean()"
   ]
  },
  {
   "cell_type": "code",
   "execution_count": 22,
   "id": "edf358fb",
   "metadata": {
    "ExecuteTime": {
     "end_time": "2024-09-06T15:40:30.737654Z",
     "start_time": "2024-09-06T15:40:30.721697Z"
    },
    "execution": {
     "iopub.execute_input": "2024-07-24T11:16:02.591993Z",
     "iopub.status.busy": "2024-07-24T11:16:02.591383Z",
     "iopub.status.idle": "2024-07-24T11:16:02.600618Z",
     "shell.execute_reply": "2024-07-24T11:16:02.598743Z"
    },
    "papermill": {
     "duration": 0.046662,
     "end_time": "2024-07-24T11:16:02.603939",
     "exception": false,
     "start_time": "2024-07-24T11:16:02.557277",
     "status": "completed"
    },
    "tags": []
   },
   "outputs": [],
   "source": [
    "data['Parch']=data['Parch'].apply(lambda x : 0 if x ==0 else 1)"
   ]
  },
  {
   "cell_type": "code",
   "execution_count": 23,
   "id": "88e739dd",
   "metadata": {
    "ExecuteTime": {
     "end_time": "2024-09-06T15:40:33.747234Z",
     "start_time": "2024-09-06T15:40:33.726710Z"
    },
    "execution": {
     "iopub.execute_input": "2024-07-24T11:16:02.670107Z",
     "iopub.status.busy": "2024-07-24T11:16:02.669667Z",
     "iopub.status.idle": "2024-07-24T11:16:02.680160Z",
     "shell.execute_reply": "2024-07-24T11:16:02.678432Z"
    },
    "papermill": {
     "duration": 0.045103,
     "end_time": "2024-07-24T11:16:02.683010",
     "exception": false,
     "start_time": "2024-07-24T11:16:02.637907",
     "status": "completed"
    },
    "tags": []
   },
   "outputs": [
    {
     "data": {
      "text/plain": [
       "Parch\n",
       "0    0.305556\n",
       "1    0.563830\n",
       "Name: Survived, dtype: float64"
      ]
     },
     "execution_count": 23,
     "metadata": {},
     "output_type": "execute_result"
    }
   ],
   "source": [
    "data.groupby('Parch').Survived.mean()"
   ]
  },
  {
   "cell_type": "code",
   "execution_count": 24,
   "id": "54b362e5",
   "metadata": {
    "ExecuteTime": {
     "end_time": "2024-09-06T15:40:34.760697Z",
     "start_time": "2024-09-06T15:40:34.746675Z"
    },
    "execution": {
     "iopub.execute_input": "2024-07-24T11:16:02.744226Z",
     "iopub.status.busy": "2024-07-24T11:16:02.743671Z",
     "iopub.status.idle": "2024-07-24T11:16:02.754744Z",
     "shell.execute_reply": "2024-07-24T11:16:02.753378Z"
    },
    "papermill": {
     "duration": 0.045629,
     "end_time": "2024-07-24T11:16:02.757959",
     "exception": false,
     "start_time": "2024-07-24T11:16:02.712330",
     "status": "completed"
    },
    "tags": []
   },
   "outputs": [
    {
     "data": {
      "text/plain": [
       "SibSp\n",
       "0    283\n",
       "1    110\n",
       "2     14\n",
       "3      4\n",
       "4      4\n",
       "8      2\n",
       "5      1\n",
       "Name: count, dtype: int64"
      ]
     },
     "execution_count": 24,
     "metadata": {},
     "output_type": "execute_result"
    }
   ],
   "source": [
    "data.SibSp.value_counts()"
   ]
  },
  {
   "cell_type": "code",
   "execution_count": 25,
   "id": "90ba4478",
   "metadata": {
    "ExecuteTime": {
     "end_time": "2024-09-10T14:38:50.275004Z",
     "start_time": "2024-09-10T14:38:50.244925Z"
    },
    "execution": {
     "iopub.execute_input": "2024-07-24T11:16:03.082897Z",
     "iopub.status.busy": "2024-07-24T11:16:03.082311Z",
     "iopub.status.idle": "2024-07-24T11:16:03.090548Z",
     "shell.execute_reply": "2024-07-24T11:16:03.089051Z"
    },
    "papermill": {
     "duration": 0.046593,
     "end_time": "2024-07-24T11:16:03.093645",
     "exception": false,
     "start_time": "2024-07-24T11:16:03.047052",
     "status": "completed"
    },
    "tags": []
   },
   "outputs": [],
   "source": [
    "data=data.drop(columns='Ticket')"
   ]
  },
  {
   "cell_type": "code",
   "execution_count": 26,
   "id": "dc623b4a",
   "metadata": {
    "ExecuteTime": {
     "end_time": "2024-09-10T14:39:16.124675Z",
     "start_time": "2024-09-10T14:39:16.067382Z"
    },
    "execution": {
     "iopub.execute_input": "2024-07-24T11:16:03.160543Z",
     "iopub.status.busy": "2024-07-24T11:16:03.160129Z",
     "iopub.status.idle": "2024-07-24T11:16:03.167109Z",
     "shell.execute_reply": "2024-07-24T11:16:03.165797Z"
    },
    "papermill": {
     "duration": 0.041512,
     "end_time": "2024-07-24T11:16:03.170166",
     "exception": false,
     "start_time": "2024-07-24T11:16:03.128654",
     "status": "completed"
    },
    "tags": []
   },
   "outputs": [],
   "source": [
    "Y=data['Survived']\n",
    "X=data.drop(columns='Survived')"
   ]
  },
  {
   "cell_type": "code",
   "execution_count": 27,
   "id": "2c1f7f5c",
   "metadata": {
    "ExecuteTime": {
     "end_time": "2024-09-10T14:39:19.698121Z",
     "start_time": "2024-09-10T14:39:19.658601Z"
    },
    "execution": {
     "iopub.execute_input": "2024-07-24T11:16:03.238828Z",
     "iopub.status.busy": "2024-07-24T11:16:03.237536Z",
     "iopub.status.idle": "2024-07-24T11:16:03.246206Z",
     "shell.execute_reply": "2024-07-24T11:16:03.244819Z"
    },
    "papermill": {
     "duration": 0.043009,
     "end_time": "2024-07-24T11:16:03.249219",
     "exception": false,
     "start_time": "2024-07-24T11:16:03.206210",
     "status": "completed"
    },
    "tags": []
   },
   "outputs": [],
   "source": [
    "from sklearn.preprocessing import LabelEncoder, StandardScaler\n",
    "\n",
    "le_sex = LabelEncoder()\n",
    "X['Sex'] = le_sex.fit_transform(X['Sex'])\n",
    "\n",
    "le_embarked = LabelEncoder()\n",
    "X['Embarked'] = le_embarked.fit_transform(X['Embarked'])"
   ]
  },
  {
   "cell_type": "code",
   "execution_count": 28,
   "id": "8e23c242",
   "metadata": {},
   "outputs": [],
   "source": [
    "scaler = StandardScaler()\n",
    "X = scaler.fit_transform(X)\n",
    "X = pd.DataFrame(X)\n",
    "Y = pd.DataFrame(Y)"
   ]
  },
  {
   "cell_type": "markdown",
   "id": "65dca8f0",
   "metadata": {
    "papermill": {
     "duration": 0.030201,
     "end_time": "2024-07-24T11:16:03.465761",
     "exception": false,
     "start_time": "2024-07-24T11:16:03.435560",
     "status": "completed"
    },
    "tags": []
   },
   "source": [
    "Splitting the Data into Train and Test Sets"
   ]
  },
  {
   "cell_type": "code",
   "execution_count": 33,
   "id": "ac2baa11",
   "metadata": {
    "ExecuteTime": {
     "end_time": "2024-09-06T15:40:47.211719Z",
     "start_time": "2024-09-06T15:40:47.196941Z"
    },
    "execution": {
     "iopub.execute_input": "2024-07-24T11:16:03.528370Z",
     "iopub.status.busy": "2024-07-24T11:16:03.527860Z",
     "iopub.status.idle": "2024-07-24T11:16:03.539318Z",
     "shell.execute_reply": "2024-07-24T11:16:03.537955Z"
    },
    "papermill": {
     "duration": 0.046181,
     "end_time": "2024-07-24T11:16:03.542179",
     "exception": false,
     "start_time": "2024-07-24T11:16:03.495998",
     "status": "completed"
    },
    "tags": []
   },
   "outputs": [],
   "source": [
    "X_train,X_test,Y_train,Y_test=train_test_split(X,Y,test_size=0.3,random_state=45)"
   ]
  },
  {
   "cell_type": "markdown",
   "id": "f15f97d8",
   "metadata": {
    "papermill": {
     "duration": 0.029211,
     "end_time": "2024-07-24T11:16:03.600614",
     "exception": false,
     "start_time": "2024-07-24T11:16:03.571403",
     "status": "completed"
    },
    "tags": []
   },
   "source": [
    "Model Building"
   ]
  },
  {
   "cell_type": "code",
   "execution_count": 31,
   "id": "2081cd59",
   "metadata": {
    "ExecuteTime": {
     "end_time": "2024-09-06T15:41:45.410870Z",
     "start_time": "2024-09-06T15:41:45.134693Z"
    },
    "execution": {
     "iopub.execute_input": "2024-07-24T11:16:03.841594Z",
     "iopub.status.busy": "2024-07-24T11:16:03.841182Z",
     "iopub.status.idle": "2024-07-24T11:16:04.087484Z",
     "shell.execute_reply": "2024-07-24T11:16:04.086116Z"
    },
    "papermill": {
     "duration": 0.281028,
     "end_time": "2024-07-24T11:16:04.090354",
     "exception": false,
     "start_time": "2024-07-24T11:16:03.809326",
     "status": "completed"
    },
    "tags": []
   },
   "outputs": [
    {
     "name": "stdout",
     "output_type": "stream",
     "text": [
      "The Classification report is :\n",
      "              precision    recall  f1-score   support\n",
      "\n",
      "           0       1.00      1.00      1.00        75\n",
      "           1       1.00      1.00      1.00        51\n",
      "\n",
      "    accuracy                           1.00       126\n",
      "   macro avg       1.00      1.00      1.00       126\n",
      "weighted avg       1.00      1.00      1.00       126\n",
      "\n"
     ]
    }
   ],
   "source": [
    "model1 = RandomForestClassifier()\n",
    "model1.fit(X_train, Y_train)\n",
    "\n",
    "y_pred1=model1.predict(X_test)\n",
    "accuracy_score(Y_test,y_pred1)\n",
    "\n",
    "# Display the classification report\n",
    "report = classification_report(Y_test, y_pred1)\n",
    "print(f'The Classification report is :\\n{report}')"
   ]
  },
  {
   "cell_type": "code",
   "execution_count": 34,
   "id": "5087b63f",
   "metadata": {
    "ExecuteTime": {
     "end_time": "2024-09-06T15:43:01.003533Z",
     "start_time": "2024-09-06T15:43:00.922698Z"
    },
    "execution": {
     "iopub.execute_input": "2024-07-24T11:16:04.153407Z",
     "iopub.status.busy": "2024-07-24T11:16:04.152971Z",
     "iopub.status.idle": "2024-07-24T11:16:04.166468Z",
     "shell.execute_reply": "2024-07-24T11:16:04.165276Z"
    },
    "papermill": {
     "duration": 0.048927,
     "end_time": "2024-07-24T11:16:04.169444",
     "exception": false,
     "start_time": "2024-07-24T11:16:04.120517",
     "status": "completed"
    },
    "tags": []
   },
   "outputs": [
    {
     "name": "stdout",
     "output_type": "stream",
     "text": [
      "The Classification report is :\n",
      "              precision    recall  f1-score   support\n",
      "\n",
      "           0       0.99      0.98      0.99       103\n",
      "           1       0.97      0.98      0.98        65\n",
      "\n",
      "    accuracy                           0.98       168\n",
      "   macro avg       0.98      0.98      0.98       168\n",
      "weighted avg       0.98      0.98      0.98       168\n",
      "\n"
     ]
    }
   ],
   "source": [
    "model2=KNeighborsClassifier(n_neighbors=5)\n",
    "model2.fit(X_train,Y_train)\n",
    "\n",
    "y_pred2=model2.predict(X_test)\n",
    "\n",
    "accuracy_score(Y_test,y_pred2)\n",
    "\n",
    "# Display the classification report\n",
    "report = classification_report(Y_test, y_pred2)\n",
    "print(f'The Classification report is :\\n{report}')"
   ]
  },
  {
   "cell_type": "code",
   "execution_count": 35,
   "id": "d94c8079",
   "metadata": {
    "ExecuteTime": {
     "end_time": "2024-09-06T15:43:03.095374Z",
     "start_time": "2024-09-06T15:43:03.012986Z"
    },
    "execution": {
     "iopub.execute_input": "2024-07-24T11:16:04.236405Z",
     "iopub.status.busy": "2024-07-24T11:16:04.235961Z",
     "iopub.status.idle": "2024-07-24T11:16:04.251853Z",
     "shell.execute_reply": "2024-07-24T11:16:04.250635Z"
    },
    "papermill": {
     "duration": 0.05308,
     "end_time": "2024-07-24T11:16:04.254586",
     "exception": false,
     "start_time": "2024-07-24T11:16:04.201506",
     "status": "completed"
    },
    "tags": []
   },
   "outputs": [
    {
     "name": "stdout",
     "output_type": "stream",
     "text": [
      "The Classification report is :\n",
      "              precision    recall  f1-score   support\n",
      "\n",
      "           0       1.00      1.00      1.00       103\n",
      "           1       1.00      1.00      1.00        65\n",
      "\n",
      "    accuracy                           1.00       168\n",
      "   macro avg       1.00      1.00      1.00       168\n",
      "weighted avg       1.00      1.00      1.00       168\n",
      "\n"
     ]
    }
   ],
   "source": [
    "model3=SVC()\n",
    "model3.fit(X_train,Y_train)\n",
    "\n",
    "y_pred3=model3.predict(X_test)\n",
    "\n",
    "accuracy_score(Y_test,y_pred3)\n",
    "\n",
    "# Display the classification report\n",
    "report = classification_report(Y_test, y_pred3)\n",
    "print(f'The Classification report is :\\n{report}')"
   ]
  },
  {
   "cell_type": "code",
   "execution_count": 69,
   "id": "8961fffaa1e5d780",
   "metadata": {},
   "outputs": [
    {
     "data": {
      "text/plain": [
       "['model_scv.pkl']"
      ]
     },
     "execution_count": 69,
     "metadata": {},
     "output_type": "execute_result"
    }
   ],
   "source": [
    "import joblib\n",
    "\n",
    "\n",
    "joblib.dump(model1, 'model_rf.pkl')\n",
    "joblib.dump(model2, 'model_knn.pkl')\n",
    "joblib.dump(model3, 'model_scv.pkl')"
   ]
  }
 ],
 "metadata": {
  "kaggle": {
   "accelerator": "none",
   "dataSources": [
    {
     "datasetId": 826163,
     "sourceId": 2879186,
     "sourceType": "datasetVersion"
    }
   ],
   "dockerImageVersionId": 30746,
   "isGpuEnabled": false,
   "isInternetEnabled": true,
   "language": "python",
   "sourceType": "notebook"
  },
  "kernelspec": {
   "display_name": "Python 3",
   "language": "python",
   "name": "python3"
  },
  "language_info": {
   "codemirror_mode": {
    "name": "ipython",
    "version": 3
   },
   "file_extension": ".py",
   "mimetype": "text/x-python",
   "name": "python",
   "nbconvert_exporter": "python",
   "pygments_lexer": "ipython3",
   "version": "3.12.4"
  },
  "papermill": {
   "default_parameters": {},
   "duration": 16.653478,
   "end_time": "2024-07-24T11:16:07.592118",
   "environment_variables": {},
   "exception": null,
   "input_path": "__notebook__.ipynb",
   "output_path": "__notebook__.ipynb",
   "parameters": {},
   "start_time": "2024-07-24T11:15:50.938640",
   "version": "2.5.0"
  }
 },
 "nbformat": 4,
 "nbformat_minor": 5
}
